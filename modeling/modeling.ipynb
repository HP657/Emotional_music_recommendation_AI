{
 "cells": [
  {
   "cell_type": "code",
   "execution_count": null,
   "metadata": {},
   "outputs": [],
   "source": [
    "import pandas as pd"
   ]
  },
  {
   "cell_type": "code",
   "execution_count": null,
   "metadata": {},
   "outputs": [],
   "source": [
    "df1 = pd.read_excel(\"Training.xlsx\")\n",
    "df2 = pd.read_excel(\"Validation.xlsx\")"
   ]
  },
  {
   "cell_type": "code",
   "execution_count": null,
   "metadata": {},
   "outputs": [],
   "source": [
    "df1.drop([\"연령\", \"성별\", \"신체질환\", \"상황키워드\", \"감정_소분류\",  \"시스템문장1\", \"시스템문장2\", \"시스템문장3\"], axis=1, inplace=True)\n",
    "df2.drop([\"연령\", \"성별\", \"신체질환\", \"상황키워드\", \"감정_소분류\",  \"시스템문장1\", \"시스템문장2\", \"시스템문장3\"], axis=1, inplace=True)"
   ]
  },
  {
   "cell_type": "code",
   "execution_count": null,
   "metadata": {},
   "outputs": [],
   "source": [
    "df1.rename(columns={\"사람문장1\" : \"sentence\"}, inplace=True)\n",
    "df1.rename(columns={'감정_대분류': 'Emotion'}, inplace=True)\n",
    "\n",
    "df2.rename(columns={\"사람문장1\" : \"sentence\"}, inplace=True)\n",
    "df2.rename(columns={'감정_대분류': 'Emotion'}, inplace=True)\n"
   ]
  },
  {
   "cell_type": "code",
   "execution_count": null,
   "metadata": {},
   "outputs": [],
   "source": [
    "df_train = pd.concat([\n",
    "    df1[['Emotion', 'sentence']],\n",
    "    df1[['Emotion', '사람문장2']].rename(columns={'사람문장2': 'sentence'}),\n",
    "    df1[['Emotion', '사람문장3']].rename(columns={'사람문장3': 'sentence'})\n",
    "], ignore_index=True)\n",
    "\n",
    "df_valid = pd.concat([\n",
    "    df2[['Emotion', 'sentence']],\n",
    "    df2[['Emotion', '사람문장2']].rename(columns={'사람문장2': 'sentence'}),\n",
    "    df2[['Emotion', '사람문장3']].rename(columns={'사람문장3': 'sentence'})\n",
    "], ignore_index=True)\n"
   ]
  },
  {
   "cell_type": "code",
   "execution_count": null,
   "metadata": {},
   "outputs": [],
   "source": [
    "df_train = df_train.dropna()\n",
    "df_valid = df_valid.dropna()"
   ]
  },
  {
   "cell_type": "code",
   "execution_count": null,
   "metadata": {},
   "outputs": [],
   "source": [
    "df_train.to_csv(\"training_data.csv\", index=False)\n",
    "df_valid.to_csv(\"validation_data.csv\", index=False)"
   ]
  },
  {
   "cell_type": "code",
   "execution_count": null,
   "metadata": {},
   "outputs": [],
   "source": [
    "import pandas as pd"
   ]
  },
  {
   "cell_type": "code",
   "execution_count": null,
   "metadata": {},
   "outputs": [],
   "source": [
    "df_train = pd.read_csv(\"training_data.csv\")\n",
    "df_valid = pd.read_csv(\"validation_data.csv\")"
   ]
  },
  {
   "cell_type": "code",
   "execution_count": null,
   "metadata": {},
   "outputs": [],
   "source": [
    "from konlpy.tag import Okt"
   ]
  },
  {
   "cell_type": "code",
   "execution_count": null,
   "metadata": {},
   "outputs": [],
   "source": [
    "train = pd.read_csv(\"training_data.csv\")"
   ]
  },
  {
   "cell_type": "code",
   "execution_count": null,
   "metadata": {},
   "outputs": [],
   "source": [
    "okt = Okt()\n",
    "\n",
    "temp = []\n",
    "for i in train['sentence']:\n",
    "    temp.append(okt.morphs(i))\n",
    "    \n",
    "temp = pd.Series(temp)\n",
    "train['token'] = temp"
   ]
  },
  {
   "cell_type": "code",
   "execution_count": null,
   "metadata": {},
   "outputs": [],
   "source": [
    "train.info()"
   ]
  },
  {
   "cell_type": "code",
   "execution_count": null,
   "metadata": {},
   "outputs": [],
   "source": [
    "train.to_csv(\"training_data-token.csv\", index=False)"
   ]
  },
  {
   "cell_type": "code",
   "execution_count": null,
   "metadata": {},
   "outputs": [],
   "source": [
    "import pandas as pd"
   ]
  },
  {
   "cell_type": "code",
   "execution_count": null,
   "metadata": {},
   "outputs": [],
   "source": [
    "df_train = pd.read_csv(\"training_data-token.csv\")"
   ]
  },
  {
   "cell_type": "code",
   "execution_count": null,
   "metadata": {},
   "outputs": [],
   "source": [
    "df_train['token']"
   ]
  },
  {
   "cell_type": "code",
   "execution_count": null,
   "metadata": {},
   "outputs": [],
   "source": [
    "from gensim.models import Word2Vec\n",
    "model = Word2Vec(df_train['token'], vector_size=1000, window=5, min_count=1, workers=4, sg=1)"
   ]
  },
  {
   "cell_type": "code",
   "execution_count": null,
   "metadata": {},
   "outputs": [],
   "source": [
    "model.wv.vectors.shape"
   ]
  },
  {
   "cell_type": "code",
   "execution_count": null,
   "metadata": {},
   "outputs": [],
   "source": [
    "import joblib\n",
    "\n",
    "joblib.dump(model, 'word_model.joblib')"
   ]
  },
  {
   "cell_type": "code",
   "execution_count": 5,
   "metadata": {},
   "outputs": [
    {
     "ename": "AttributeError",
     "evalue": "'DataFrame' object has no attribute 'append'",
     "output_type": "error",
     "traceback": [
      "\u001b[1;31m---------------------------------------------------------------------------\u001b[0m",
      "\u001b[1;31mAttributeError\u001b[0m                            Traceback (most recent call last)",
      "Cell \u001b[1;32mIn[5], line 21\u001b[0m\n\u001b[0;32m     19\u001b[0m \u001b[38;5;28;01mfor\u001b[39;00m emotion, ratio \u001b[38;5;129;01min\u001b[39;00m desired_ratio\u001b[38;5;241m.\u001b[39mitems():\n\u001b[0;32m     20\u001b[0m     emotion_data \u001b[38;5;241m=\u001b[39m data[data[\u001b[38;5;124m'\u001b[39m\u001b[38;5;124mEmotion\u001b[39m\u001b[38;5;124m'\u001b[39m] \u001b[38;5;241m==\u001b[39m emotion]\u001b[38;5;241m.\u001b[39msample(n\u001b[38;5;241m=\u001b[39mratio, random_state\u001b[38;5;241m=\u001b[39m\u001b[38;5;241m42\u001b[39m)  \u001b[38;5;66;03m# 적절한 비율로 샘플링\u001b[39;00m\n\u001b[1;32m---> 21\u001b[0m     selected_data \u001b[38;5;241m=\u001b[39m \u001b[43mselected_data\u001b[49m\u001b[38;5;241;43m.\u001b[39;49m\u001b[43mappend\u001b[49m(emotion_data)\n\u001b[0;32m     23\u001b[0m \u001b[38;5;66;03m# 선택된 데이터를 확인합니다.\u001b[39;00m\n\u001b[0;32m     24\u001b[0m \u001b[38;5;28mprint\u001b[39m(selected_data)\n",
      "File \u001b[1;32mc:\\Python\\Python311\\Lib\\site-packages\\pandas\\core\\generic.py:6202\u001b[0m, in \u001b[0;36mNDFrame.__getattr__\u001b[1;34m(self, name)\u001b[0m\n\u001b[0;32m   6195\u001b[0m \u001b[38;5;28;01mif\u001b[39;00m (\n\u001b[0;32m   6196\u001b[0m     name \u001b[38;5;129;01mnot\u001b[39;00m \u001b[38;5;129;01min\u001b[39;00m \u001b[38;5;28mself\u001b[39m\u001b[38;5;241m.\u001b[39m_internal_names_set\n\u001b[0;32m   6197\u001b[0m     \u001b[38;5;129;01mand\u001b[39;00m name \u001b[38;5;129;01mnot\u001b[39;00m \u001b[38;5;129;01min\u001b[39;00m \u001b[38;5;28mself\u001b[39m\u001b[38;5;241m.\u001b[39m_metadata\n\u001b[0;32m   6198\u001b[0m     \u001b[38;5;129;01mand\u001b[39;00m name \u001b[38;5;129;01mnot\u001b[39;00m \u001b[38;5;129;01min\u001b[39;00m \u001b[38;5;28mself\u001b[39m\u001b[38;5;241m.\u001b[39m_accessors\n\u001b[0;32m   6199\u001b[0m     \u001b[38;5;129;01mand\u001b[39;00m \u001b[38;5;28mself\u001b[39m\u001b[38;5;241m.\u001b[39m_info_axis\u001b[38;5;241m.\u001b[39m_can_hold_identifiers_and_holds_name(name)\n\u001b[0;32m   6200\u001b[0m ):\n\u001b[0;32m   6201\u001b[0m     \u001b[38;5;28;01mreturn\u001b[39;00m \u001b[38;5;28mself\u001b[39m[name]\n\u001b[1;32m-> 6202\u001b[0m \u001b[38;5;28;01mreturn\u001b[39;00m \u001b[38;5;28;43mobject\u001b[39;49m\u001b[38;5;241;43m.\u001b[39;49m\u001b[38;5;21;43m__getattribute__\u001b[39;49m\u001b[43m(\u001b[49m\u001b[38;5;28;43mself\u001b[39;49m\u001b[43m,\u001b[49m\u001b[43m \u001b[49m\u001b[43mname\u001b[49m\u001b[43m)\u001b[49m\n",
      "\u001b[1;31mAttributeError\u001b[0m: 'DataFrame' object has no attribute 'append'"
     ]
    }
   ],
   "source": [
    "import pandas as pd\n",
    "\n",
    "# 데이터를 불러옵니다.\n",
    "data = pd.read_csv('training_data-token.csv')  # 데이터 파일 경로에 맞게 수정하세요.\n",
    "\n",
    "# 각각의 감정에 대한 비율을 설정합니다.\n",
    "desired_ratio = {\n",
    "    '불안': 5000,\n",
    "    '분노': 5000,\n",
    "    '상처': 5000,\n",
    "    '슬픔': 5000,\n",
    "    '당황': 5000,\n",
    "    '기쁨': 5000\n",
    "}\n",
    "# 선택한 데이터를 저장할 빈 데이터프레임을 생성합니다.\n",
    "selected_data = pd.DataFrame(columns=data.columns)\n",
    "\n",
    "# 각각의 감정에 대해 적절한 비율로 데이터를 선택합니다.\n",
    "for emotion, ratio in desired_ratio.items():\n",
    "    emotion_data = data[data['Emotion'] == emotion].sample(n=ratio, random_state=42)  # 적절한 비율로 샘플링\n",
    "    selected_data = selected_data.append(emotion_data)\n",
    "\n",
    "# 선택된 데이터를 확인합니다.\n",
    "print(selected_data)\n",
    "\n",
    "# 선택된 데이터를 새로운 파일로 저장합니다.\n",
    "selected_data.to_csv('selected_data.csv', index=False)  # 저장할 파일명에 맞게 수정하세요.\n"
   ]
  },
  {
   "cell_type": "code",
   "execution_count": 3,
   "metadata": {},
   "outputs": [
    {
     "name": "stdout",
     "output_type": "stream",
     "text": [
      "Emotion\n",
      "불안    26301\n",
      "분노    26000\n",
      "상처    25957\n",
      "슬픔    25814\n",
      "당황    24936\n",
      "기쁨    16947\n",
      "Name: count, dtype: int64\n"
     ]
    }
   ],
   "source": [
    "import pandas as pd\n",
    "\n",
    "# 데이터를 불러옵니다.\n",
    "data = pd.read_csv('training_data-token.csv')\n",
    "emotion_counts = data['Emotion'].value_counts()\n",
    "print(emotion_counts)"
   ]
  },
  {
   "cell_type": "code",
   "execution_count": null,
   "metadata": {},
   "outputs": [],
   "source": [
    "import pandas as pd\n",
    "import numpy as np"
   ]
  },
  {
   "cell_type": "code",
   "execution_count": null,
   "metadata": {},
   "outputs": [],
   "source": [
    "def get_sent_embedding(model, embedding_size, tokenized_words):\n",
    "    feature_vec = np.zeros((embedding_size,), dtype=\"float32\")\n",
    "    n_words = 0\n",
    "    for word in tokenized_words:\n",
    "        if word in model.wv.key_to_index:\n",
    "            n_words += 1\n",
    "            feature_vec = np.add(feature_vec, model.wv[word])\n",
    "    if (n_words > 0):\n",
    "        feature_vec = np.divide(feature_vec, n_words)\n",
    "    return feature_vec"
   ]
  },
  {
   "cell_type": "code",
   "execution_count": null,
   "metadata": {},
   "outputs": [],
   "source": [
    "from sklearn.svm import SVC\n",
    "from joblib import load, dump\n",
    "\n",
    "model = load(\"word_model.joblib\")\n",
    "\n",
    "X = [get_sent_embedding(model, 1000, tokens) for tokens in df_train['token']]\n",
    "y = df_train['Emotion']\n",
    "\n",
    "# SVM 분류 모델 학습\n",
    "svm_model = SVC(kernel='linear')\n",
    "svm_model.fit(X, y)\n",
    "\n",
    "# 모델 저장\n",
    "dump(svm_model, 'svm_model.joblib')\n"
   ]
  },
  {
   "cell_type": "code",
   "execution_count": null,
   "metadata": {},
   "outputs": [],
   "source": [
    "svm_model = 1\n",
    "joblib.dump(svm_model, 'svm_model.joblib')"
   ]
  },
  {
   "cell_type": "code",
   "execution_count": null,
   "metadata": {},
   "outputs": [],
   "source": []
  }
 ],
 "metadata": {
  "kernelspec": {
   "display_name": "Python 3",
   "language": "python",
   "name": "python3"
  },
  "language_info": {
   "codemirror_mode": {
    "name": "ipython",
    "version": 3
   },
   "file_extension": ".py",
   "mimetype": "text/x-python",
   "name": "python",
   "nbconvert_exporter": "python",
   "pygments_lexer": "ipython3",
   "version": "3.11.5"
  }
 },
 "nbformat": 4,
 "nbformat_minor": 2
}
